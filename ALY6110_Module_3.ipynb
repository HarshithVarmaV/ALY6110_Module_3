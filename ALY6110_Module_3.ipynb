{
  "nbformat": 4,
  "nbformat_minor": 0,
  "metadata": {
    "colab": {
      "provenance": []
    },
    "kernelspec": {
      "name": "python3",
      "display_name": "Python 3"
    },
    "language_info": {
      "name": "python"
    }
  },
  "cells": [
    {
      "cell_type": "markdown",
      "source": [
        "# **Setting up Pyspark in Colab**\n",
        "\n",
        "To run spark in Colab, You need proper setup. Next cell will create required setup for running Spark/PySpark:"
      ],
      "metadata": {
        "id": "KeM_TtfgiRgi"
      }
    },
    {
      "cell_type": "code",
      "execution_count": 1,
      "metadata": {
        "id": "IwO1xPqFiPJ8"
      },
      "outputs": [],
      "source": [
        "# innstall java\n",
        "!apt-get install openjdk-8-jdk-headless -qq > /dev/null\n",
        "\n",
        "# install spark (change the version number if needed)\n",
        "!wget -q https://archive.apache.org/dist/spark/spark-3.0.0/spark-3.0.0-bin-hadoop3.2.tgz\n",
        "\n",
        "# unzip the spark file to the current folder\n",
        "!tar xf spark-3.0.0-bin-hadoop3.2.tgz\n",
        "\n",
        "# set your spark folder to your system path environment.\n",
        "import os\n",
        "os.environ[\"JAVA_HOME\"] = \"/usr/lib/jvm/java-8-openjdk-amd64\"\n",
        "os.environ[\"SPARK_HOME\"] = \"/content/spark-3.0.0-bin-hadoop3.2\"\n",
        "\n",
        "\n",
        "# install findspark using pip\n",
        "!pip install -q findspark"
      ]
    },
    {
      "cell_type": "markdown",
      "source": [
        "# **Starting a spark session**"
      ],
      "metadata": {
        "id": "7IeiTGmriodz"
      }
    },
    {
      "cell_type": "code",
      "source": [
        "import findspark\n",
        "findspark.init()\n",
        "from pyspark.sql import SparkSession\n",
        "\n",
        "# Creates a Spark session using the local[*] master\n",
        "spark = SparkSession.builder.master(\"local[*]\").getOrCreate()"
      ],
      "metadata": {
        "id": "04HFs3aHirSl"
      },
      "execution_count": 2,
      "outputs": []
    },
    {
      "cell_type": "markdown",
      "source": [
        "# **Uploading CSV file into a dataframe**"
      ],
      "metadata": {
        "id": "lBJ-nhKyix8I"
      }
    },
    {
      "cell_type": "code",
      "source": [
        "# Upload files to google colab\n",
        "from google.colab import files\n",
        "uploaded = files.upload()"
      ],
      "metadata": {
        "colab": {
          "base_uri": "https://localhost:8080/",
          "height": 74
        },
        "id": "RKkDz3ymizeg",
        "outputId": "733f3d32-725b-4c12-9203-77796490395d"
      },
      "execution_count": 3,
      "outputs": [
        {
          "output_type": "display_data",
          "data": {
            "text/plain": [
              "<IPython.core.display.HTML object>"
            ],
            "text/html": [
              "\n",
              "     <input type=\"file\" id=\"files-2106f207-010a-4f36-b86d-4173be5f6644\" name=\"files[]\" multiple disabled\n",
              "        style=\"border:none\" />\n",
              "     <output id=\"result-2106f207-010a-4f36-b86d-4173be5f6644\">\n",
              "      Upload widget is only available when the cell has been executed in the\n",
              "      current browser session. Please rerun this cell to enable.\n",
              "      </output>\n",
              "      <script>// Copyright 2017 Google LLC\n",
              "//\n",
              "// Licensed under the Apache License, Version 2.0 (the \"License\");\n",
              "// you may not use this file except in compliance with the License.\n",
              "// You may obtain a copy of the License at\n",
              "//\n",
              "//      http://www.apache.org/licenses/LICENSE-2.0\n",
              "//\n",
              "// Unless required by applicable law or agreed to in writing, software\n",
              "// distributed under the License is distributed on an \"AS IS\" BASIS,\n",
              "// WITHOUT WARRANTIES OR CONDITIONS OF ANY KIND, either express or implied.\n",
              "// See the License for the specific language governing permissions and\n",
              "// limitations under the License.\n",
              "\n",
              "/**\n",
              " * @fileoverview Helpers for google.colab Python module.\n",
              " */\n",
              "(function(scope) {\n",
              "function span(text, styleAttributes = {}) {\n",
              "  const element = document.createElement('span');\n",
              "  element.textContent = text;\n",
              "  for (const key of Object.keys(styleAttributes)) {\n",
              "    element.style[key] = styleAttributes[key];\n",
              "  }\n",
              "  return element;\n",
              "}\n",
              "\n",
              "// Max number of bytes which will be uploaded at a time.\n",
              "const MAX_PAYLOAD_SIZE = 100 * 1024;\n",
              "\n",
              "function _uploadFiles(inputId, outputId) {\n",
              "  const steps = uploadFilesStep(inputId, outputId);\n",
              "  const outputElement = document.getElementById(outputId);\n",
              "  // Cache steps on the outputElement to make it available for the next call\n",
              "  // to uploadFilesContinue from Python.\n",
              "  outputElement.steps = steps;\n",
              "\n",
              "  return _uploadFilesContinue(outputId);\n",
              "}\n",
              "\n",
              "// This is roughly an async generator (not supported in the browser yet),\n",
              "// where there are multiple asynchronous steps and the Python side is going\n",
              "// to poll for completion of each step.\n",
              "// This uses a Promise to block the python side on completion of each step,\n",
              "// then passes the result of the previous step as the input to the next step.\n",
              "function _uploadFilesContinue(outputId) {\n",
              "  const outputElement = document.getElementById(outputId);\n",
              "  const steps = outputElement.steps;\n",
              "\n",
              "  const next = steps.next(outputElement.lastPromiseValue);\n",
              "  return Promise.resolve(next.value.promise).then((value) => {\n",
              "    // Cache the last promise value to make it available to the next\n",
              "    // step of the generator.\n",
              "    outputElement.lastPromiseValue = value;\n",
              "    return next.value.response;\n",
              "  });\n",
              "}\n",
              "\n",
              "/**\n",
              " * Generator function which is called between each async step of the upload\n",
              " * process.\n",
              " * @param {string} inputId Element ID of the input file picker element.\n",
              " * @param {string} outputId Element ID of the output display.\n",
              " * @return {!Iterable<!Object>} Iterable of next steps.\n",
              " */\n",
              "function* uploadFilesStep(inputId, outputId) {\n",
              "  const inputElement = document.getElementById(inputId);\n",
              "  inputElement.disabled = false;\n",
              "\n",
              "  const outputElement = document.getElementById(outputId);\n",
              "  outputElement.innerHTML = '';\n",
              "\n",
              "  const pickedPromise = new Promise((resolve) => {\n",
              "    inputElement.addEventListener('change', (e) => {\n",
              "      resolve(e.target.files);\n",
              "    });\n",
              "  });\n",
              "\n",
              "  const cancel = document.createElement('button');\n",
              "  inputElement.parentElement.appendChild(cancel);\n",
              "  cancel.textContent = 'Cancel upload';\n",
              "  const cancelPromise = new Promise((resolve) => {\n",
              "    cancel.onclick = () => {\n",
              "      resolve(null);\n",
              "    };\n",
              "  });\n",
              "\n",
              "  // Wait for the user to pick the files.\n",
              "  const files = yield {\n",
              "    promise: Promise.race([pickedPromise, cancelPromise]),\n",
              "    response: {\n",
              "      action: 'starting',\n",
              "    }\n",
              "  };\n",
              "\n",
              "  cancel.remove();\n",
              "\n",
              "  // Disable the input element since further picks are not allowed.\n",
              "  inputElement.disabled = true;\n",
              "\n",
              "  if (!files) {\n",
              "    return {\n",
              "      response: {\n",
              "        action: 'complete',\n",
              "      }\n",
              "    };\n",
              "  }\n",
              "\n",
              "  for (const file of files) {\n",
              "    const li = document.createElement('li');\n",
              "    li.append(span(file.name, {fontWeight: 'bold'}));\n",
              "    li.append(span(\n",
              "        `(${file.type || 'n/a'}) - ${file.size} bytes, ` +\n",
              "        `last modified: ${\n",
              "            file.lastModifiedDate ? file.lastModifiedDate.toLocaleDateString() :\n",
              "                                    'n/a'} - `));\n",
              "    const percent = span('0% done');\n",
              "    li.appendChild(percent);\n",
              "\n",
              "    outputElement.appendChild(li);\n",
              "\n",
              "    const fileDataPromise = new Promise((resolve) => {\n",
              "      const reader = new FileReader();\n",
              "      reader.onload = (e) => {\n",
              "        resolve(e.target.result);\n",
              "      };\n",
              "      reader.readAsArrayBuffer(file);\n",
              "    });\n",
              "    // Wait for the data to be ready.\n",
              "    let fileData = yield {\n",
              "      promise: fileDataPromise,\n",
              "      response: {\n",
              "        action: 'continue',\n",
              "      }\n",
              "    };\n",
              "\n",
              "    // Use a chunked sending to avoid message size limits. See b/62115660.\n",
              "    let position = 0;\n",
              "    do {\n",
              "      const length = Math.min(fileData.byteLength - position, MAX_PAYLOAD_SIZE);\n",
              "      const chunk = new Uint8Array(fileData, position, length);\n",
              "      position += length;\n",
              "\n",
              "      const base64 = btoa(String.fromCharCode.apply(null, chunk));\n",
              "      yield {\n",
              "        response: {\n",
              "          action: 'append',\n",
              "          file: file.name,\n",
              "          data: base64,\n",
              "        },\n",
              "      };\n",
              "\n",
              "      let percentDone = fileData.byteLength === 0 ?\n",
              "          100 :\n",
              "          Math.round((position / fileData.byteLength) * 100);\n",
              "      percent.textContent = `${percentDone}% done`;\n",
              "\n",
              "    } while (position < fileData.byteLength);\n",
              "  }\n",
              "\n",
              "  // All done.\n",
              "  yield {\n",
              "    response: {\n",
              "      action: 'complete',\n",
              "    }\n",
              "  };\n",
              "}\n",
              "\n",
              "scope.google = scope.google || {};\n",
              "scope.google.colab = scope.google.colab || {};\n",
              "scope.google.colab._files = {\n",
              "  _uploadFiles,\n",
              "  _uploadFilesContinue,\n",
              "};\n",
              "})(self);\n",
              "</script> "
            ]
          },
          "metadata": {}
        },
        {
          "output_type": "stream",
          "name": "stdout",
          "text": [
            "Saving BostonHousing.csv to BostonHousing.csv\n"
          ]
        }
      ]
    },
    {
      "cell_type": "markdown",
      "source": [
        "# **Read the given CSV file**"
      ],
      "metadata": {
        "id": "RPsGemHpi7Y6"
      }
    },
    {
      "cell_type": "code",
      "source": [
        "# Reading this uploaded file and use this data frame.\n",
        "file_path = \"/content/BostonHousing.csv\"\n",
        "df = spark.read.format(\"csv\").options(header=\"true\", inferSchema=\"true\").load(file_path)"
      ],
      "metadata": {
        "id": "RDSi8ogki-UW"
      },
      "execution_count": 4,
      "outputs": []
    },
    {
      "cell_type": "markdown",
      "source": [
        "# **Show the first 5 elements of your dataset**"
      ],
      "metadata": {
        "id": "QC90nmW6jFGR"
      }
    },
    {
      "cell_type": "code",
      "source": [
        "# Show the first five rows\n",
        "df.show(5)"
      ],
      "metadata": {
        "colab": {
          "base_uri": "https://localhost:8080/"
        },
        "id": "S5ZBBAaWjEbZ",
        "outputId": "e0562d45-74d0-4545-d1df-a4c2d3b03dd9"
      },
      "execution_count": 5,
      "outputs": [
        {
          "output_type": "stream",
          "name": "stdout",
          "text": [
            "+-------+----+-----+----+-----+-----+----+------+---+---+-------+------+-----+----+\n",
            "|   crim|  zn|indus|chas|  nox|   rm| age|   dis|rad|tax|ptratio|     b|lstat|medv|\n",
            "+-------+----+-----+----+-----+-----+----+------+---+---+-------+------+-----+----+\n",
            "|0.00632|18.0| 2.31|   0|0.538|6.575|65.2|  4.09|  1|296|   15.3| 396.9| 4.98|24.0|\n",
            "|0.02731| 0.0| 7.07|   0|0.469|6.421|78.9|4.9671|  2|242|   17.8| 396.9| 9.14|21.6|\n",
            "|0.02729| 0.0| 7.07|   0|0.469|7.185|61.1|4.9671|  2|242|   17.8|392.83| 4.03|34.7|\n",
            "|0.03237| 0.0| 2.18|   0|0.458|6.998|45.8|6.0622|  3|222|   18.7|394.63| 2.94|33.4|\n",
            "|0.06905| 0.0| 2.18|   0|0.458|7.147|54.2|6.0622|  3|222|   18.7| 396.9| 5.33|36.2|\n",
            "+-------+----+-----+----+-----+-----+----+------+---+---+-------+------+-----+----+\n",
            "only showing top 5 rows\n",
            "\n"
          ]
        }
      ]
    },
    {
      "cell_type": "markdown",
      "source": [
        "# **Count number of observation in the given dataset**"
      ],
      "metadata": {
        "id": "aBemMslIjNkA"
      }
    },
    {
      "cell_type": "code",
      "source": [
        "# Counting number of rows in our dataset\n",
        "df.count()"
      ],
      "metadata": {
        "colab": {
          "base_uri": "https://localhost:8080/"
        },
        "id": "RjlzWzA8jPhe",
        "outputId": "7ffb74d5-77a4-4baa-8953-b1cf28ab7424"
      },
      "execution_count": 6,
      "outputs": [
        {
          "output_type": "execute_result",
          "data": {
            "text/plain": [
              "506"
            ]
          },
          "metadata": {},
          "execution_count": 6
        }
      ]
    },
    {
      "cell_type": "markdown",
      "source": [
        "# **Show the Schema of your dataset**"
      ],
      "metadata": {
        "id": "eP0PRehJjU5I"
      }
    },
    {
      "cell_type": "code",
      "source": [
        "# The schema provides information about the structure and data types of the columns in the DataFrame.\n",
        "# Column name: Data type ( whether the column allows null values : true or false)\n",
        "df.printSchema()"
      ],
      "metadata": {
        "colab": {
          "base_uri": "https://localhost:8080/"
        },
        "id": "5xFbNPF2jYKO",
        "outputId": "d21a9c43-9e9e-468b-a9ba-52e528919b20"
      },
      "execution_count": 7,
      "outputs": [
        {
          "output_type": "stream",
          "name": "stdout",
          "text": [
            "root\n",
            " |-- crim: double (nullable = true)\n",
            " |-- zn: double (nullable = true)\n",
            " |-- indus: double (nullable = true)\n",
            " |-- chas: integer (nullable = true)\n",
            " |-- nox: double (nullable = true)\n",
            " |-- rm: double (nullable = true)\n",
            " |-- age: double (nullable = true)\n",
            " |-- dis: double (nullable = true)\n",
            " |-- rad: integer (nullable = true)\n",
            " |-- tax: integer (nullable = true)\n",
            " |-- ptratio: double (nullable = true)\n",
            " |-- b: double (nullable = true)\n",
            " |-- lstat: double (nullable = true)\n",
            " |-- medv: double (nullable = true)\n",
            "\n"
          ]
        }
      ]
    },
    {
      "cell_type": "markdown",
      "source": [
        "# **Drop the column \"b\" from your dataset**"
      ],
      "metadata": {
        "id": "a8gFJSmljeB5"
      }
    },
    {
      "cell_type": "code",
      "source": [
        "# Drop a column\n",
        "column_to_drop = \"b\"\n",
        "df = df.drop(column_to_drop)\n",
        "\n",
        "# Show the DataFrame\n",
        "df.printSchema()"
      ],
      "metadata": {
        "colab": {
          "base_uri": "https://localhost:8080/"
        },
        "id": "Q3NzZN_hjfhr",
        "outputId": "a73664ce-55b5-4491-ebb3-e85a91c83b8a"
      },
      "execution_count": 9,
      "outputs": [
        {
          "output_type": "stream",
          "name": "stdout",
          "text": [
            "root\n",
            " |-- crim: double (nullable = true)\n",
            " |-- zn: double (nullable = true)\n",
            " |-- indus: double (nullable = true)\n",
            " |-- chas: integer (nullable = true)\n",
            " |-- nox: double (nullable = true)\n",
            " |-- rm: double (nullable = true)\n",
            " |-- age: double (nullable = true)\n",
            " |-- dis: double (nullable = true)\n",
            " |-- rad: integer (nullable = true)\n",
            " |-- tax: integer (nullable = true)\n",
            " |-- ptratio: double (nullable = true)\n",
            " |-- lstat: double (nullable = true)\n",
            " |-- medv: double (nullable = true)\n",
            "\n"
          ]
        }
      ]
    },
    {
      "cell_type": "markdown",
      "source": [
        "# **Round all of the numerical columns into two decimal place**"
      ],
      "metadata": {
        "id": "lylVVrWdkXq1"
      }
    },
    {
      "cell_type": "code",
      "source": [
        "from pyspark.sql.functions import col, round\n",
        "\n",
        "# List of columns to round (you can modify this list based on your dataset)\n",
        "numerical_columns = [col_name for col_name, data_type in df.dtypes if data_type == \"double\"]\n",
        "\n",
        "# Round numerical columns to two decimal places\n",
        "for col_name in numerical_columns:\n",
        "    df = df.withColumn(col_name, round(col(col_name), 2))\n",
        "\n",
        "# Show the updated DataFrame\n",
        "df.show()"
      ],
      "metadata": {
        "colab": {
          "base_uri": "https://localhost:8080/"
        },
        "id": "ItnFim_skYDr",
        "outputId": "0bf8c7c4-f6cb-443b-850a-d5898c80b8a2"
      },
      "execution_count": 11,
      "outputs": [
        {
          "output_type": "stream",
          "name": "stdout",
          "text": [
            "+----+----+-----+----+----+----+-----+----+---+---+-------+-----+----+\n",
            "|crim|  zn|indus|chas| nox|  rm|  age| dis|rad|tax|ptratio|lstat|medv|\n",
            "+----+----+-----+----+----+----+-----+----+---+---+-------+-----+----+\n",
            "|0.01|18.0| 2.31|   0|0.54|6.58| 65.2|4.09|  1|296|   15.3| 4.98|24.0|\n",
            "|0.03| 0.0| 7.07|   0|0.47|6.42| 78.9|4.97|  2|242|   17.8| 9.14|21.6|\n",
            "|0.03| 0.0| 7.07|   0|0.47|7.19| 61.1|4.97|  2|242|   17.8| 4.03|34.7|\n",
            "|0.03| 0.0| 2.18|   0|0.46| 7.0| 45.8|6.06|  3|222|   18.7| 2.94|33.4|\n",
            "|0.07| 0.0| 2.18|   0|0.46|7.15| 54.2|6.06|  3|222|   18.7| 5.33|36.2|\n",
            "|0.03| 0.0| 2.18|   0|0.46|6.43| 58.7|6.06|  3|222|   18.7| 5.21|28.7|\n",
            "|0.09|12.5| 7.87|   0|0.52|6.01| 66.6|5.56|  5|311|   15.2|12.43|22.9|\n",
            "|0.14|12.5| 7.87|   0|0.52|6.17| 96.1|5.95|  5|311|   15.2|19.15|27.1|\n",
            "|0.21|12.5| 7.87|   0|0.52|5.63|100.0|6.08|  5|311|   15.2|29.93|16.5|\n",
            "|0.17|12.5| 7.87|   0|0.52| 6.0| 85.9|6.59|  5|311|   15.2| 17.1|18.9|\n",
            "|0.22|12.5| 7.87|   0|0.52|6.38| 94.3|6.35|  5|311|   15.2|20.45|15.0|\n",
            "|0.12|12.5| 7.87|   0|0.52|6.01| 82.9|6.23|  5|311|   15.2|13.27|18.9|\n",
            "|0.09|12.5| 7.87|   0|0.52|5.89| 39.0|5.45|  5|311|   15.2|15.71|21.7|\n",
            "|0.63| 0.0| 8.14|   0|0.54|5.95| 61.8|4.71|  4|307|   21.0| 8.26|20.4|\n",
            "|0.64| 0.0| 8.14|   0|0.54| 6.1| 84.5|4.46|  4|307|   21.0|10.26|18.2|\n",
            "|0.63| 0.0| 8.14|   0|0.54|5.83| 56.5| 4.5|  4|307|   21.0| 8.47|19.9|\n",
            "|1.05| 0.0| 8.14|   0|0.54|5.94| 29.3| 4.5|  4|307|   21.0| 6.58|23.1|\n",
            "|0.78| 0.0| 8.14|   0|0.54|5.99| 81.7|4.26|  4|307|   21.0|14.67|17.5|\n",
            "| 0.8| 0.0| 8.14|   0|0.54|5.46| 36.6| 3.8|  4|307|   21.0|11.69|20.2|\n",
            "|0.73| 0.0| 8.14|   0|0.54|5.73| 69.5| 3.8|  4|307|   21.0|11.28|18.2|\n",
            "+----+----+-----+----+----+----+-----+----+---+---+-------+-----+----+\n",
            "only showing top 20 rows\n",
            "\n"
          ]
        }
      ]
    },
    {
      "cell_type": "markdown",
      "source": [
        "# **Create a new column (Age10)  with 10% increasing of 'age' column**"
      ],
      "metadata": {
        "id": "bBP2v54AlMnG"
      }
    },
    {
      "cell_type": "code",
      "source": [
        "# Create the 'Age10' column with a 10% increase in the 'age' column\n",
        "df = df.withColumn(\"Age10\", round(col(\"age\") * 1.10, 2))  # Multiply 'age' by 1.10 for a 10% increase\n",
        "\n",
        "# Show the DataFrame with the new 'Age10' column\n",
        "df.show()"
      ],
      "metadata": {
        "colab": {
          "base_uri": "https://localhost:8080/"
        },
        "id": "CQHY1zqalPo7",
        "outputId": "7f701765-36e7-439b-8b58-194580fe3d58"
      },
      "execution_count": 13,
      "outputs": [
        {
          "output_type": "stream",
          "name": "stdout",
          "text": [
            "+----+----+-----+----+----+----+-----+----+---+---+-------+-----+----+------+\n",
            "|crim|  zn|indus|chas| nox|  rm|  age| dis|rad|tax|ptratio|lstat|medv| Age10|\n",
            "+----+----+-----+----+----+----+-----+----+---+---+-------+-----+----+------+\n",
            "|0.01|18.0| 2.31|   0|0.54|6.58| 65.2|4.09|  1|296|   15.3| 4.98|24.0| 71.72|\n",
            "|0.03| 0.0| 7.07|   0|0.47|6.42| 78.9|4.97|  2|242|   17.8| 9.14|21.6| 86.79|\n",
            "|0.03| 0.0| 7.07|   0|0.47|7.19| 61.1|4.97|  2|242|   17.8| 4.03|34.7| 67.21|\n",
            "|0.03| 0.0| 2.18|   0|0.46| 7.0| 45.8|6.06|  3|222|   18.7| 2.94|33.4| 50.38|\n",
            "|0.07| 0.0| 2.18|   0|0.46|7.15| 54.2|6.06|  3|222|   18.7| 5.33|36.2| 59.62|\n",
            "|0.03| 0.0| 2.18|   0|0.46|6.43| 58.7|6.06|  3|222|   18.7| 5.21|28.7| 64.57|\n",
            "|0.09|12.5| 7.87|   0|0.52|6.01| 66.6|5.56|  5|311|   15.2|12.43|22.9| 73.26|\n",
            "|0.14|12.5| 7.87|   0|0.52|6.17| 96.1|5.95|  5|311|   15.2|19.15|27.1|105.71|\n",
            "|0.21|12.5| 7.87|   0|0.52|5.63|100.0|6.08|  5|311|   15.2|29.93|16.5| 110.0|\n",
            "|0.17|12.5| 7.87|   0|0.52| 6.0| 85.9|6.59|  5|311|   15.2| 17.1|18.9| 94.49|\n",
            "|0.22|12.5| 7.87|   0|0.52|6.38| 94.3|6.35|  5|311|   15.2|20.45|15.0|103.73|\n",
            "|0.12|12.5| 7.87|   0|0.52|6.01| 82.9|6.23|  5|311|   15.2|13.27|18.9| 91.19|\n",
            "|0.09|12.5| 7.87|   0|0.52|5.89| 39.0|5.45|  5|311|   15.2|15.71|21.7|  42.9|\n",
            "|0.63| 0.0| 8.14|   0|0.54|5.95| 61.8|4.71|  4|307|   21.0| 8.26|20.4| 67.98|\n",
            "|0.64| 0.0| 8.14|   0|0.54| 6.1| 84.5|4.46|  4|307|   21.0|10.26|18.2| 92.95|\n",
            "|0.63| 0.0| 8.14|   0|0.54|5.83| 56.5| 4.5|  4|307|   21.0| 8.47|19.9| 62.15|\n",
            "|1.05| 0.0| 8.14|   0|0.54|5.94| 29.3| 4.5|  4|307|   21.0| 6.58|23.1| 32.23|\n",
            "|0.78| 0.0| 8.14|   0|0.54|5.99| 81.7|4.26|  4|307|   21.0|14.67|17.5| 89.87|\n",
            "| 0.8| 0.0| 8.14|   0|0.54|5.46| 36.6| 3.8|  4|307|   21.0|11.69|20.2| 40.26|\n",
            "|0.73| 0.0| 8.14|   0|0.54|5.73| 69.5| 3.8|  4|307|   21.0|11.28|18.2| 76.45|\n",
            "+----+----+-----+----+----+----+-----+----+---+---+-------+-----+----+------+\n",
            "only showing top 20 rows\n",
            "\n"
          ]
        }
      ]
    },
    {
      "cell_type": "markdown",
      "source": [
        "# **Plot histogram Age10 column on a 2D Plot**"
      ],
      "metadata": {
        "id": "ewedcLZqpXw3"
      }
    },
    {
      "cell_type": "code",
      "source": [
        "import matplotlib.pyplot as plt\n",
        "\n",
        "# Collect the 'Age10' column data to a local list for plotting\n",
        "age10_data = df.select(\"Age10\").rdd.flatMap(lambda x: x).collect()\n",
        "\n",
        "# Plot the histogram\n",
        "plt.hist(age10_data, bins=30, color='skyblue', edgecolor='black')\n",
        "plt.xlabel(\"Age10\")\n",
        "plt.ylabel(\"Frequency\")\n",
        "plt.title(\"Histogram of Age10\")\n",
        "plt.show()"
      ],
      "metadata": {
        "colab": {
          "base_uri": "https://localhost:8080/",
          "height": 472
        },
        "id": "RG8xouA1pX9C",
        "outputId": "405c5e4c-e3e1-4df0-9c19-5ed995f21a22"
      },
      "execution_count": 17,
      "outputs": [
        {
          "output_type": "display_data",
          "data": {
            "text/plain": [
              "<Figure size 640x480 with 1 Axes>"
            ],
            "image/png": "[encoded data removed]"
          },
          "metadata": {}
        }
      ]
    },
    {
      "cell_type": "code",
      "source": [
        "# Plot the histogram directly from the DataFrame\n",
        "histogram = df.select(\"Age10\").toPandas()\n",
        "plt.hist(histogram[\"Age10\"], bins=30, color='skyblue', edgecolor='black')\n",
        "plt.xlabel(\"Age10\")\n",
        "plt.ylabel(\"Frequency\")\n",
        "plt.title(\"Histogram of Age10\")\n",
        "plt.show()"
      ],
      "metadata": {
        "colab": {
          "base_uri": "https://localhost:8080/",
          "height": 472
        },
        "id": "88AcA6wmqG2q",
        "outputId": "05f554a5-32c3-4dbf-9eaa-bad15d2e241b"
      },
      "execution_count": 19,
      "outputs": [
        {
          "output_type": "display_data",
          "data": {
            "text/plain": [
              "<Figure size 640x480 with 1 Axes>"
            ],
            "image/png": "[encoded data removed]"
          },
          "metadata": {}
        }
      ]
    },
    {
      "cell_type": "markdown",
      "source": [
        "# **Provide Summary Statistics of all columns (count, mean, stddev,min, max)**"
      ],
      "metadata": {
        "id": "-ExOLoE8qZoL"
      }
    },
    {
      "cell_type": "code",
      "source": [
        "# Use describe() to calculate summary statistics for all columns\n",
        "summary = df.describe()\n",
        "\n",
        "# Show the summary statistics\n",
        "summary.show()"
      ],
      "metadata": {
        "colab": {
          "base_uri": "https://localhost:8080/"
        },
        "id": "Wvva1Ed3qcu5",
        "outputId": "cd61b3e0-2da0-4b6c-df28-7a1982bf7558"
      },
      "execution_count": 20,
      "outputs": [
        {
          "output_type": "stream",
          "name": "stdout",
          "text": [
            "+-------+------------------+------------------+------------------+------------------+------------------+------------------+------------------+------------------+-----------------+------------------+------------------+------------------+------------------+------------------+\n",
            "|summary|              crim|                zn|             indus|              chas|               nox|                rm|               age|               dis|              rad|               tax|           ptratio|             lstat|              medv|             Age10|\n",
            "+-------+------------------+------------------+------------------+------------------+------------------+------------------+------------------+------------------+-----------------+------------------+------------------+------------------+------------------+------------------+\n",
            "|  count|               506|               506|               506|               506|               506|               506|               506|               506|              506|               506|               506|               506|               506|               506|\n",
            "|   mean|3.6134189723320147|11.363636363636363|11.136778656126504|0.0691699604743083|0.5547628458498024| 6.285217391304348| 68.57490118577078| 3.795434782608693|9.549407114624506| 408.2371541501976|18.455533596837967|12.653063241106723|22.532806324110698| 75.43239130434783|\n",
            "| stddev| 8.601602243696705| 23.32245299451514| 6.860352940897589|0.2539940413404101|0.1155068172648583|0.7028533445424924|28.148861406903595|2.1057760049129106|8.707259384239366|168.53711605495903|2.1649455237144455| 7.141061511348571| 9.197104087379815|30.963747547593968|\n",
            "|    min|              0.01|               0.0|              0.46|                 0|              0.39|              3.56|               2.9|              1.13|                1|               187|              12.6|              1.73|               5.0|              3.19|\n",
            "|    max|             88.98|             100.0|             27.74|                 1|              0.87|              8.78|             100.0|             12.13|               24|               711|              22.0|             37.97|              50.0|             110.0|\n",
            "+-------+------------------+------------------+------------------+------------------+------------------+------------------+------------------+------------------+-----------------+------------------+------------------+------------------+------------------+------------------+\n",
            "\n"
          ]
        }
      ]
    },
    {
      "cell_type": "markdown",
      "source": [
        "# **Convert  Spark Dataframe to Pandas Dataframe**"
      ],
      "metadata": {
        "id": "D74WuVRKqs31"
      }
    },
    {
      "cell_type": "code",
      "source": [
        "# We cant see directly last 5 rows like R, for that first we need to convert to pandas dataframe.\n",
        "# Then in pandas we can use .tail function to see last rows.\n",
        "\n",
        "# Convert the PySpark DataFrame to a Pandas DataFrame\n",
        "pandas_df = df.toPandas()"
      ],
      "metadata": {
        "id": "_cBv2-t1qvg0"
      },
      "execution_count": 21,
      "outputs": []
    },
    {
      "cell_type": "markdown",
      "source": [
        "# **Show the last 5 rows of Pandas DataFrame**"
      ],
      "metadata": {
        "id": "_l36PgnKq1tC"
      }
    },
    {
      "cell_type": "code",
      "source": [
        "# Display the last 5 rows in tabular format\n",
        "print(pandas_df.tail(5))"
      ],
      "metadata": {
        "colab": {
          "base_uri": "https://localhost:8080/"
        },
        "id": "QavSzQUqq4y7",
        "outputId": "7774f88b-610b-4651-d867-2bb4bc6e5d5e"
      },
      "execution_count": 22,
      "outputs": [
        {
          "output_type": "stream",
          "name": "stdout",
          "text": [
            "     crim   zn  indus  chas   nox    rm   age   dis  rad  tax  ptratio  lstat  \\\n",
            "501  0.06  0.0  11.93     0  0.57  6.59  69.1  2.48    1  273     21.0   9.67   \n",
            "502  0.05  0.0  11.93     0  0.57  6.12  76.7  2.29    1  273     21.0   9.08   \n",
            "503  0.06  0.0  11.93     0  0.57  6.98  91.0  2.17    1  273     21.0   5.64   \n",
            "504  0.11  0.0  11.93     0  0.57  6.79  89.3  2.39    1  273     21.0   6.48   \n",
            "505  0.05  0.0  11.93     0  0.57  6.03  80.8  2.51    1  273     21.0   7.88   \n",
            "\n",
            "     medv   Age10  \n",
            "501  22.4   76.01  \n",
            "502  20.6   84.37  \n",
            "503  23.9  100.10  \n",
            "504  22.0   98.23  \n",
            "505  11.9   88.88  \n"
          ]
        }
      ]
    }
  ]
}